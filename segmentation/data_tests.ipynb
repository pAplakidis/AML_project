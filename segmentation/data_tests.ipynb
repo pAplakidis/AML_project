{
 "cells": [
  {
   "cell_type": "code",
   "execution_count": 62,
   "metadata": {},
   "outputs": [],
   "source": [
    "import os\n",
    "import numpy as np\n",
    "import random\n",
    "import glob\n",
    "import nibabel as nib\n",
    "import matplotlib.pyplot as plt\n",
    "from tifffile import imsave\n",
    "from tqdm import tqdm, trange\n",
    "\n",
    "from sklearn.preprocessing import MinMaxScaler\n",
    "\n",
    "import torch\n",
    "from torch.utils.data import Dataset"
   ]
  },
  {
   "cell_type": "markdown",
   "metadata": {},
   "source": [
    "### NOTE\n",
    "index 355 of training set (seg.nii) needs to be cleaned up to look like the rest of the folders/files"
   ]
  },
  {
   "cell_type": "code",
   "execution_count": 33,
   "metadata": {},
   "outputs": [],
   "source": [
    "BASE_DIR_SEG = \"../data/BraTS2020/BraTS2020_TrainingData/MICCAI_BraTS2020_TrainingData\"\n",
    "scaler = MinMaxScaler()"
   ]
  },
  {
   "cell_type": "markdown",
   "metadata": {},
   "source": [
    "## Inspect Dataset"
   ]
  },
  {
   "cell_type": "code",
   "execution_count": 34,
   "metadata": {},
   "outputs": [
    {
     "name": "stdout",
     "output_type": "stream",
     "text": [
      "['BraTS20_Training_357', 'BraTS20_Training_210', 'BraTS20_Training_166', 'BraTS20_Training_331', 'BraTS20_Training_108', 'BraTS20_Training_264', 'BraTS20_Training_294', 'BraTS20_Training_364', 'BraTS20_Training_295', 'BraTS20_Training_307', 'BraTS20_Training_266', 'BraTS20_Training_137', 'BraTS20_Training_180', 'BraTS20_Training_291', 'BraTS20_Training_348', 'BraTS20_Training_142', 'BraTS20_Training_297', 'BraTS20_Training_243', 'BraTS20_Training_079', 'BraTS20_Training_152', 'BraTS20_Training_053', 'BraTS20_Training_136', 'BraTS20_Training_167', 'BraTS20_Training_225', 'BraTS20_Training_196', 'BraTS20_Training_238', 'BraTS20_Training_288', 'BraTS20_Training_293', 'BraTS20_Training_221', 'BraTS20_Training_211', 'BraTS20_Training_028', 'BraTS20_Training_338', 'BraTS20_Training_018', 'BraTS20_Training_232', 'BraTS20_Training_085', 'BraTS20_Training_220', 'BraTS20_Training_341', 'BraTS20_Training_306', 'BraTS20_Training_353', 'BraTS20_Training_268', 'BraTS20_Training_065', 'BraTS20_Training_263', 'BraTS20_Training_021', 'BraTS20_Training_040', 'BraTS20_Training_023', 'BraTS20_Training_041', 'BraTS20_Training_356', 'BraTS20_Training_091', 'BraTS20_Training_270', 'BraTS20_Training_206', 'BraTS20_Training_139', 'BraTS20_Training_298', 'BraTS20_Training_057', 'BraTS20_Training_072', 'BraTS20_Training_289', 'BraTS20_Training_143', 'BraTS20_Training_267', 'BraTS20_Training_244', 'BraTS20_Training_332', 'BraTS20_Training_265', 'BraTS20_Training_101', 'BraTS20_Training_272', 'BraTS20_Training_033', 'BraTS20_Training_308', 'BraTS20_Training_015', 'BraTS20_Training_029', 'BraTS20_Training_009', 'BraTS20_Training_218', 'BraTS20_Training_169', 'BraTS20_Training_103', 'BraTS20_Training_144', 'BraTS20_Training_129', 'BraTS20_Training_351', 'BraTS20_Training_047', 'BraTS20_Training_158', 'BraTS20_Training_098', 'BraTS20_Training_114', 'BraTS20_Training_037', 'BraTS20_Training_084', 'BraTS20_Training_069', 'BraTS20_Training_006', 'BraTS20_Training_312', 'BraTS20_Training_096', 'BraTS20_Training_087', 'BraTS20_Training_046', 'BraTS20_Training_016', 'BraTS20_Training_074', 'BraTS20_Training_246', 'BraTS20_Training_318', 'BraTS20_Training_202', 'BraTS20_Training_334', 'BraTS20_Training_323', 'BraTS20_Training_358', 'BraTS20_Training_075', 'BraTS20_Training_113', 'BraTS20_Training_222', 'BraTS20_Training_369', 'BraTS20_Training_276', 'BraTS20_Training_303', 'BraTS20_Training_045', 'BraTS20_Training_022', 'BraTS20_Training_123', 'BraTS20_Training_133', 'BraTS20_Training_032', 'BraTS20_Training_227', 'BraTS20_Training_277', 'BraTS20_Training_116', 'BraTS20_Training_105', 'BraTS20_Training_064', 'BraTS20_Training_253', 'BraTS20_Training_175', 'BraTS20_Training_259', 'BraTS20_Training_250', 'BraTS20_Training_326', 'BraTS20_Training_187', 'BraTS20_Training_245', 'BraTS20_Training_311', 'BraTS20_Training_236', 'BraTS20_Training_002', 'BraTS20_Training_081', 'BraTS20_Training_112', 'BraTS20_Training_344', 'BraTS20_Training_110', 'BraTS20_Training_073', 'BraTS20_Training_226', 'BraTS20_Training_191', 'BraTS20_Training_135', 'BraTS20_Training_284', 'BraTS20_Training_118', 'BraTS20_Training_162', 'BraTS20_Training_208', 'BraTS20_Training_140', 'BraTS20_Training_285', 'BraTS20_Training_350', 'BraTS20_Training_322', 'BraTS20_Training_062', 'BraTS20_Training_214', 'BraTS20_Training_301', 'BraTS20_Training_013', 'BraTS20_Training_025', 'BraTS20_Training_104', 'BraTS20_Training_336', 'BraTS20_Training_324', 'BraTS20_Training_017', 'survival_info.csv', 'BraTS20_Training_360', 'BraTS20_Training_010', 'BraTS20_Training_058', 'BraTS20_Training_257', 'BraTS20_Training_313', 'BraTS20_Training_234', 'BraTS20_Training_237', 'BraTS20_Training_327', 'BraTS20_Training_317', 'BraTS20_Training_156', 'BraTS20_Training_083', 'BraTS20_Training_189', 'BraTS20_Training_131', 'BraTS20_Training_290', 'BraTS20_Training_352', 'BraTS20_Training_300', 'BraTS20_Training_188', 'BraTS20_Training_281', 'BraTS20_Training_007', 'BraTS20_Training_194', 'BraTS20_Training_030', 'BraTS20_Training_020', 'BraTS20_Training_097', 'BraTS20_Training_031', 'BraTS20_Training_034', 'BraTS20_Training_115', 'BraTS20_Training_262', 'BraTS20_Training_204', 'BraTS20_Training_328', 'BraTS20_Training_080', 'BraTS20_Training_228', 'BraTS20_Training_316', 'BraTS20_Training_278', 'BraTS20_Training_283', 'BraTS20_Training_314', 'BraTS20_Training_093', 'BraTS20_Training_349', 'BraTS20_Training_183', 'BraTS20_Training_171', 'BraTS20_Training_177', 'BraTS20_Training_200', 'BraTS20_Training_173', 'BraTS20_Training_368', 'BraTS20_Training_008', 'BraTS20_Training_090', 'BraTS20_Training_095', 'BraTS20_Training_172', 'BraTS20_Training_261', 'BraTS20_Training_163', 'BraTS20_Training_119', 'BraTS20_Training_320', 'name_mapping.csv', 'BraTS20_Training_362', 'BraTS20_Training_088', 'BraTS20_Training_068', 'BraTS20_Training_161', 'BraTS20_Training_067', 'BraTS20_Training_024', 'BraTS20_Training_193', 'BraTS20_Training_197', 'BraTS20_Training_366', 'BraTS20_Training_233', 'BraTS20_Training_215', 'BraTS20_Training_216', 'BraTS20_Training_184', 'BraTS20_Training_240', 'BraTS20_Training_249', 'BraTS20_Training_146', 'BraTS20_Training_185', 'BraTS20_Training_130', 'BraTS20_Training_134', 'BraTS20_Training_239', 'BraTS20_Training_359', 'BraTS20_Training_120', 'BraTS20_Training_309', 'BraTS20_Training_255', 'BraTS20_Training_159', 'BraTS20_Training_361', 'BraTS20_Training_242', 'BraTS20_Training_302', 'BraTS20_Training_148', 'BraTS20_Training_086', 'BraTS20_Training_310', 'BraTS20_Training_121', 'BraTS20_Training_043', 'BraTS20_Training_212', 'BraTS20_Training_042', 'BraTS20_Training_252', 'BraTS20_Training_230', 'BraTS20_Training_149', 'BraTS20_Training_251', 'BraTS20_Training_036', 'BraTS20_Training_321', 'BraTS20_Training_286', 'BraTS20_Training_141', 'BraTS20_Training_061', 'BraTS20_Training_132', 'BraTS20_Training_198', 'BraTS20_Training_182', 'BraTS20_Training_054', 'BraTS20_Training_052', 'BraTS20_Training_213', 'BraTS20_Training_011', 'BraTS20_Training_345', 'BraTS20_Training_219', 'BraTS20_Training_003', 'BraTS20_Training_147', 'BraTS20_Training_066', 'BraTS20_Training_044', 'BraTS20_Training_170', 'BraTS20_Training_205', 'BraTS20_Training_209', 'BraTS20_Training_111', 'BraTS20_Training_217', 'BraTS20_Training_019', 'BraTS20_Training_247', 'BraTS20_Training_354', 'BraTS20_Training_164', 'BraTS20_Training_107', 'BraTS20_Training_154', 'BraTS20_Training_165', 'BraTS20_Training_181', 'BraTS20_Training_160', 'BraTS20_Training_186', 'BraTS20_Training_292', 'BraTS20_Training_168', 'BraTS20_Training_207', 'BraTS20_Training_106', 'BraTS20_Training_145', 'BraTS20_Training_333', 'BraTS20_Training_299', 'BraTS20_Training_340', 'BraTS20_Training_138', 'BraTS20_Training_155', 'BraTS20_Training_273', 'BraTS20_Training_319', 'BraTS20_Training_126', 'BraTS20_Training_004', 'BraTS20_Training_092', 'BraTS20_Training_012', 'BraTS20_Training_296', 'BraTS20_Training_179', 'BraTS20_Training_347', 'BraTS20_Training_367', 'BraTS20_Training_027', 'BraTS20_Training_260', 'BraTS20_Training_153', 'BraTS20_Training_117', 'BraTS20_Training_076', 'BraTS20_Training_014', 'BraTS20_Training_082', 'BraTS20_Training_258', 'BraTS20_Training_279', 'BraTS20_Training_094', 'BraTS20_Training_035', 'BraTS20_Training_125', 'BraTS20_Training_287', 'BraTS20_Training_089', 'BraTS20_Training_330', 'BraTS20_Training_325', 'BraTS20_Training_102', 'BraTS20_Training_099', 'BraTS20_Training_174', 'BraTS20_Training_070', 'BraTS20_Training_005', 'BraTS20_Training_365', 'BraTS20_Training_038', 'BraTS20_Training_223', 'BraTS20_Training_122', 'BraTS20_Training_026', 'BraTS20_Training_355', 'BraTS20_Training_280', 'BraTS20_Training_176', 'BraTS20_Training_363', 'BraTS20_Training_337', 'BraTS20_Training_274', 'BraTS20_Training_329', 'BraTS20_Training_071', 'BraTS20_Training_124', 'BraTS20_Training_304', 'BraTS20_Training_199', 'BraTS20_Training_157', 'BraTS20_Training_039', 'BraTS20_Training_203', 'BraTS20_Training_055', 'BraTS20_Training_224', 'BraTS20_Training_254', 'BraTS20_Training_060', 'BraTS20_Training_109', 'BraTS20_Training_051', 'BraTS20_Training_229', 'BraTS20_Training_256', 'BraTS20_Training_346', 'BraTS20_Training_059', 'BraTS20_Training_050', 'BraTS20_Training_335', 'BraTS20_Training_192', 'BraTS20_Training_150', 'BraTS20_Training_235', 'BraTS20_Training_339', 'BraTS20_Training_048', 'BraTS20_Training_269', 'BraTS20_Training_195', 'BraTS20_Training_190', 'BraTS20_Training_063', 'BraTS20_Training_248', 'BraTS20_Training_315', 'BraTS20_Training_078', 'BraTS20_Training_178', 'BraTS20_Training_100', 'BraTS20_Training_201', 'BraTS20_Training_077', 'BraTS20_Training_343', 'BraTS20_Training_275', 'BraTS20_Training_305', 'BraTS20_Training_231', 'BraTS20_Training_056', 'BraTS20_Training_128', 'BraTS20_Training_001', 'BraTS20_Training_049', 'BraTS20_Training_271', 'BraTS20_Training_151', 'BraTS20_Training_282', 'BraTS20_Training_127', 'BraTS20_Training_342', 'BraTS20_Training_241']\n",
      "../data/BraTS2020/BraTS2020_TrainingData/MICCAI_BraTS2020_TrainingData/BraTS20_Training_355\n",
      "['BraTS20_Training_355_seg.nii', 'BraTS20_Training_355_t2.nii', 'BraTS20_Training_355_flair.nii', 'BraTS20_Training_355_t1ce.nii', 'BraTS20_Training_355_t1.nii']\n"
     ]
    }
   ],
   "source": [
    "print(os.listdir(BASE_DIR_SEG))\n",
    "path = os.path.join(BASE_DIR_SEG, sorted(os.listdir(BASE_DIR_SEG))[354])\n",
    "print(path)\n",
    "print(os.listdir(path))"
   ]
  },
  {
   "cell_type": "code",
   "execution_count": 35,
   "metadata": {},
   "outputs": [
    {
     "name": "stdout",
     "output_type": "stream",
     "text": [
      "(240, 240, 155)\n",
      "(240, 240, 155)\n"
     ]
    }
   ],
   "source": [
    "test_image_flair = nib.load(os.path.join(path, 'BraTS20_Training_355_flair.nii')).get_fdata()\n",
    "print(test_image_flair.shape)\n",
    "# flatten => reform the 3D volume =? scale [0.0, 1.0]\n",
    "test_image_flair = scaler.fit_transform(test_image_flair.reshape(-1, test_image_flair.shape[-1])).reshape(test_image_flair.shape)\n",
    "print(test_image_flair.shape)"
   ]
  },
  {
   "cell_type": "code",
   "execution_count": 36,
   "metadata": {},
   "outputs": [
    {
     "name": "stdout",
     "output_type": "stream",
     "text": [
      "(240, 240, 155)\n",
      "(240, 240, 155)\n"
     ]
    }
   ],
   "source": [
    "test_image_t1 = nib.load(os.path.join(path, 'BraTS20_Training_355_t1.nii')).get_fdata()\n",
    "print(test_image_t1.shape)\n",
    "# flatten => reform the 3D volume =? scale [0.0, 1.0]\n",
    "test_image_t1 = scaler.fit_transform(test_image_t1.reshape(-1, test_image_t1.shape[-1])).reshape(test_image_t1.shape)\n",
    "print(test_image_t1.shape)"
   ]
  },
  {
   "cell_type": "code",
   "execution_count": 40,
   "metadata": {},
   "outputs": [
    {
     "name": "stdout",
     "output_type": "stream",
     "text": [
      "(240, 240, 155)\n",
      "(240, 240, 155)\n"
     ]
    }
   ],
   "source": [
    "test_image_t1ce = nib.load(os.path.join(path, 'BraTS20_Training_355_t1ce.nii')).get_fdata()\n",
    "print(test_image_t1ce.shape)\n",
    "# flatten => reform the 3D volume =? scale [0.0, 1.0]\n",
    "test_image_t1ce = scaler.fit_transform(test_image_t1ce.reshape(-1, test_image_t1ce.shape[-1])).reshape(test_image_t1ce.shape)\n",
    "print(test_image_t1ce.shape)"
   ]
  },
  {
   "cell_type": "code",
   "execution_count": 37,
   "metadata": {},
   "outputs": [
    {
     "name": "stdout",
     "output_type": "stream",
     "text": [
      "(240, 240, 155)\n",
      "(240, 240, 155)\n"
     ]
    }
   ],
   "source": [
    "test_image_t2 = nib.load(os.path.join(path, 'BraTS20_Training_355_t2.nii')).get_fdata()\n",
    "print(test_image_t2.shape)\n",
    "# flatten => reform the 3D volume =? scale [0.0, 1.0]\n",
    "test_image_t2 = scaler.fit_transform(test_image_t2.reshape(-1, test_image_t2.shape[-1])).reshape(test_image_t2.shape)\n",
    "print(test_image_t2.shape)"
   ]
  },
  {
   "cell_type": "code",
   "execution_count": 38,
   "metadata": {},
   "outputs": [
    {
     "name": "stdout",
     "output_type": "stream",
     "text": [
      "(240, 240, 155)\n",
      "[0 1 2 4]\n",
      "[0 1 2 3]\n"
     ]
    }
   ],
   "source": [
    "test_mask = nib.load(os.path.join(path, 'BraTS20_Training_355_seg.nii')).get_fdata()\n",
    "test_mask = test_mask.astype(np.uint8)\n",
    "print(test_mask.shape)\n",
    "\n",
    "print(np.unique(test_mask)) # 0, 1, 2, 4\n",
    "test_mask[test_mask == 4] = 3 # 0, 1, 2, 3\n",
    "print(np.unique(test_mask))"
   ]
  },
  {
   "cell_type": "code",
   "execution_count": 43,
   "metadata": {},
   "outputs": [
    {
     "data": {
      "text/plain": [
       "Text(0.5, 1.0, 'Image seg')"
      ]
     },
     "execution_count": 43,
     "metadata": {},
     "output_type": "execute_result"
    },
    {
     "data": {
      "image/png": "[encoded data removed]",
      "text/plain": [
       "<Figure size 864x576 with 5 Axes>"
      ]
     },
     "metadata": {
      "needs_background": "light"
     },
     "output_type": "display_data"
    }
   ],
   "source": [
    "# NOTE: not all slices are useful/labelled\n",
    "n_slice = random.randint(0, test_mask.shape[2])\n",
    "plt.figure(figsize=(12, 8))\n",
    "\n",
    "plt.subplot(231)\n",
    "plt.imshow(test_image_flair[:, :, n_slice], cmap='gray')\n",
    "plt.title('Image flair')\n",
    "\n",
    "plt.subplot(232)\n",
    "plt.imshow(test_image_t1[:, :, n_slice], cmap='gray')\n",
    "plt.title('Image t1')\n",
    "\n",
    "plt.subplot(233)\n",
    "plt.imshow(test_image_t1ce[:, :, n_slice], cmap='gray')\n",
    "plt.title('Image t1ce')\n",
    "\n",
    "plt.subplot(234)\n",
    "plt.imshow(test_image_t2[:, :, n_slice], cmap='gray')\n",
    "plt.title('Image t2')\n",
    "\n",
    "plt.subplot(235)\n",
    "plt.imshow(test_mask[:, :, n_slice])\n",
    "plt.title('Image seg')\n",
    "plt.show()"
   ]
  },
  {
   "cell_type": "code",
   "execution_count": 45,
   "metadata": {},
   "outputs": [],
   "source": [
    "# combine flair, t1ce and t2 (most information) into multichannel image\n",
    "combined_x = np.stack([test_image_flair, test_image_t1ce, test_image_t2], axis=3)\n",
    "\n",
    "# crop to a size divisible by 64 so we can extract 64x64x64 patches\n",
    "combined_x = combined_x[56:184, 56:184, 131:141]  # 128x128x128\n",
    "test_mask = test_mask[56:184, 56:184, 131:141]"
   ]
  },
  {
   "cell_type": "code",
   "execution_count": 49,
   "metadata": {},
   "outputs": [
    {
     "data": {
      "image/png": "[encoded data removed]",
      "text/plain": [
       "<Figure size 864x576 with 4 Axes>"
      ]
     },
     "metadata": {
      "needs_background": "light"
     },
     "output_type": "display_data"
    }
   ],
   "source": [
    "n_slice = random.randint(0, test_mask.shape[2])\n",
    "plt.figure(figsize=(12, 8))\n",
    "\n",
    "plt.subplot(221)\n",
    "plt.imshow(combined_x[:, :, n_slice, 0], cmap='gray')\n",
    "plt.title('Image flair')\n",
    "\n",
    "plt.subplot(222)\n",
    "plt.imshow(combined_x[:, :, n_slice, 1], cmap='gray')\n",
    "plt.title('Image t1ce')\n",
    "\n",
    "plt.subplot(223)\n",
    "plt.imshow(combined_x[:, :, n_slice, 2], cmap='gray')\n",
    "plt.title('Image t2')\n",
    "\n",
    "plt.subplot(224)\n",
    "plt.imshow(test_mask[:, :, n_slice])\n",
    "plt.title('Mask')\n",
    "plt.show()"
   ]
  },
  {
   "cell_type": "code",
   "execution_count": 67,
   "metadata": {},
   "outputs": [
    {
     "name": "stderr",
     "output_type": "stream",
     "text": [
      "TiffWriter: data are stored as RGB with contiguous samples. Specify the 'photometric' parameter to silence this warning\n"
     ]
    },
    {
     "name": "stdout",
     "output_type": "stream",
     "text": [
      "../data/BraTS2020/BraTS2020_TrainingData/MICCAI_BraTS2020_TrainingData\n",
      "../data/BraTS2020/BraTS2020_TrainingData/MICCAI_BraTS2020_TrainingData/BraTS20_Training_355\n"
     ]
    }
   ],
   "source": [
    "print(BASE_DIR_SEG)\n",
    "print(path)\n",
    "imsave(os.path.join(path, 'combined355.tif'), combined_x)\n",
    "np.save(os.path.join(path, 'combined355.npy'), combined_x)"
   ]
  },
  {
   "cell_type": "markdown",
   "metadata": {},
   "source": [
    "## Make dataset"
   ]
  },
  {
   "cell_type": "code",
   "execution_count": 70,
   "metadata": {},
   "outputs": [],
   "source": [
    "BASE_DIR_SEG_TRAIN = \"../data/BraTS2020/BraTS2020_TrainingData/MICCAI_BraTS2020_TrainingData\"\n",
    "scaler = MinMaxScaler()\n",
    "\n",
    "flair_list = sorted(glob.glob(BASE_DIR_SEG_TRAIN + \"/*/*flair.nii\"))\n",
    "t1ce_list = sorted(glob.glob(BASE_DIR_SEG_TRAIN + \"/*/*t1ce.nii\"))\n",
    "t2_list = sorted(glob.glob(BASE_DIR_SEG_TRAIN + \"/*/*t2.nii\"))\n",
    "mask_list = sorted(glob.glob(BASE_DIR_SEG_TRAIN + \"/*/*seg.nii\"))"
   ]
  },
  {
   "cell_type": "code",
   "execution_count": 72,
   "metadata": {},
   "outputs": [],
   "source": [
    "# 1-hot encodes a tensor\n",
    "def to_categorical(y, num_classes):\n",
    "  return np.eye(num_classes, dtype='uint8')[y]"
   ]
  },
  {
   "cell_type": "code",
   "execution_count": 76,
   "metadata": {},
   "outputs": [
    {
     "name": "stderr",
     "output_type": "stream",
     "text": [
      "[Train] Processing image and masks 32:   9%|█████                                                     | 32/369 [00:11<02:00,  2.80it/s]"
     ]
    },
    {
     "name": "stdout",
     "output_type": "stream",
     "text": [
      "Saving ...\n"
     ]
    },
    {
     "name": "stderr",
     "output_type": "stream",
     "text": [
      "[Train] Processing image and masks 34:   9%|█████▎                                                    | 34/369 [00:12<02:00,  2.79it/s]"
     ]
    },
    {
     "name": "stdout",
     "output_type": "stream",
     "text": [
      "Saving ...\n"
     ]
    },
    {
     "name": "stderr",
     "output_type": "stream",
     "text": [
      "[Train] Processing image and masks 62:  17%|█████████▋                                                | 62/369 [00:22<02:28,  2.07it/s]"
     ]
    },
    {
     "name": "stdout",
     "output_type": "stream",
     "text": [
      "Saving ...\n"
     ]
    },
    {
     "name": "stderr",
     "output_type": "stream",
     "text": [
      "[Train] Processing image and masks 98:  27%|███████████████▍                                          | 98/369 [00:41<02:27,  1.83it/s]"
     ]
    },
    {
     "name": "stdout",
     "output_type": "stream",
     "text": [
      "Saving ...\n"
     ]
    },
    {
     "name": "stderr",
     "output_type": "stream",
     "text": [
      "[Train] Processing image and masks 120:  33%|██████████████████▏                                     | 120/369 [00:52<02:09,  1.92it/s]"
     ]
    },
    {
     "name": "stdout",
     "output_type": "stream",
     "text": [
      "Saving ...\n"
     ]
    },
    {
     "name": "stderr",
     "output_type": "stream",
     "text": [
      "[Train] Processing image and masks 125:  34%|██████████████████▉                                     | 125/369 [00:55<02:07,  1.92it/s]"
     ]
    },
    {
     "name": "stdout",
     "output_type": "stream",
     "text": [
      "Saving ...\n"
     ]
    },
    {
     "name": "stderr",
     "output_type": "stream",
     "text": [
      "[Train] Processing image and masks 132:  36%|████████████████████                                    | 132/369 [00:59<02:07,  1.85it/s]"
     ]
    },
    {
     "name": "stdout",
     "output_type": "stream",
     "text": [
      "Saving ...\n"
     ]
    },
    {
     "name": "stderr",
     "output_type": "stream",
     "text": [
      "[Train] Processing image and masks 135:  37%|████████████████████▍                                   | 135/369 [01:00<02:04,  1.88it/s]"
     ]
    },
    {
     "name": "stdout",
     "output_type": "stream",
     "text": [
      "Saving ...\n"
     ]
    },
    {
     "name": "stderr",
     "output_type": "stream",
     "text": [
      "[Train] Processing image and masks 140:  38%|█████████████████████▏                                  | 140/369 [01:03<02:11,  1.74it/s]"
     ]
    },
    {
     "name": "stdout",
     "output_type": "stream",
     "text": [
      "Saving ...\n"
     ]
    },
    {
     "name": "stderr",
     "output_type": "stream",
     "text": [
      "[Train] Processing image and masks 157:  43%|███████████████████████▊                                | 157/369 [01:12<01:54,  1.86it/s]"
     ]
    },
    {
     "name": "stdout",
     "output_type": "stream",
     "text": [
      "Saving ...\n"
     ]
    },
    {
     "name": "stderr",
     "output_type": "stream",
     "text": [
      "[Train] Processing image and masks 176:  48%|██████████████████████████▋                             | 176/369 [01:22<01:39,  1.95it/s]"
     ]
    },
    {
     "name": "stdout",
     "output_type": "stream",
     "text": [
      "Saving ...\n"
     ]
    },
    {
     "name": "stderr",
     "output_type": "stream",
     "text": [
      "[Train] Processing image and masks 212:  57%|████████████████████████████████▏                       | 212/369 [01:40<01:19,  1.97it/s]"
     ]
    },
    {
     "name": "stdout",
     "output_type": "stream",
     "text": [
      "Saving ...\n"
     ]
    },
    {
     "name": "stderr",
     "output_type": "stream",
     "text": [
      "[Train] Processing image and masks 225:  61%|██████████████████████████████████▏                     | 225/369 [01:46<01:10,  2.03it/s]"
     ]
    },
    {
     "name": "stdout",
     "output_type": "stream",
     "text": [
      "Saving ...\n"
     ]
    },
    {
     "name": "stderr",
     "output_type": "stream",
     "text": [
      "[Train] Processing image and masks 263:  71%|███████████████████████████████████████▉                | 263/369 [02:06<00:55,  1.90it/s]"
     ]
    },
    {
     "name": "stdout",
     "output_type": "stream",
     "text": [
      "Saving ...\n"
     ]
    },
    {
     "name": "stderr",
     "output_type": "stream",
     "text": [
      "[Train] Processing image and masks 274:  74%|█████████████████████████████████████████▌              | 274/369 [02:12<00:48,  1.96it/s]"
     ]
    },
    {
     "name": "stdout",
     "output_type": "stream",
     "text": [
      "Saving ...\n"
     ]
    },
    {
     "name": "stderr",
     "output_type": "stream",
     "text": [
      "[Train] Processing image and masks 306:  83%|██████████████████████████████████████████████▍         | 306/369 [02:28<00:33,  1.90it/s]"
     ]
    },
    {
     "name": "stdout",
     "output_type": "stream",
     "text": [
      "Saving ...\n"
     ]
    },
    {
     "name": "stderr",
     "output_type": "stream",
     "text": [
      "[Train] Processing image and masks 313:  85%|███████████████████████████████████████████████▌        | 313/369 [02:32<00:30,  1.86it/s]"
     ]
    },
    {
     "name": "stdout",
     "output_type": "stream",
     "text": [
      "Saving ...\n"
     ]
    },
    {
     "name": "stderr",
     "output_type": "stream",
     "text": [
      "[Train] Processing image and masks 321:  87%|████████████████████████████████████████████████▋       | 321/369 [02:36<00:25,  1.91it/s]"
     ]
    },
    {
     "name": "stdout",
     "output_type": "stream",
     "text": [
      "Saving ...\n"
     ]
    },
    {
     "name": "stderr",
     "output_type": "stream",
     "text": [
      "[Train] Processing image and masks 347:  94%|████████████████████████████████████████████████████▋   | 347/369 [02:52<00:15,  1.44it/s]"
     ]
    },
    {
     "name": "stdout",
     "output_type": "stream",
     "text": [
      "Saving ...\n"
     ]
    },
    {
     "name": "stderr",
     "output_type": "stream",
     "text": [
      "[Train] Processing image and masks 355:  96%|█████████████████████████████████████████████████████▉  | 355/369 [02:57<00:09,  1.41it/s]"
     ]
    },
    {
     "name": "stdout",
     "output_type": "stream",
     "text": [
      "Saving ...\n"
     ]
    },
    {
     "name": "stderr",
     "output_type": "stream",
     "text": [
      "[Train] Processing image and masks 368: 100%|████████████████████████████████████████████████████████| 369/369 [03:07<00:00,  1.96it/s]"
     ]
    },
    {
     "name": "stdout",
     "output_type": "stream",
     "text": [
      "Saving ...\n"
     ]
    },
    {
     "name": "stderr",
     "output_type": "stream",
     "text": [
      "\n"
     ]
    }
   ],
   "source": [
    "os.makedirs(os.path.join(BASE_DIR_SEG_TRAIN, \"input_data_3channels/images\"), exist_ok=True)\n",
    "os.makedirs(os.path.join(BASE_DIR_SEG_TRAIN, \"input_data_3channels/masks\"), exist_ok=True)\n",
    "\n",
    "for i in (t := trange(len(t2_list))):\n",
    "  t.set_description(f\"[Train] Processing image and masks {i}\")\n",
    "\n",
    "  image_flair = nib.load(os.path.join(flair_list[i])).get_fdata()\n",
    "  image_flair = scaler.fit_transform(image_flair.reshape(-1, image_flair.shape[-1])).reshape(image_flair.shape)\n",
    "\n",
    "  image_t1ce= nib.load(os.path.join(t1ce_list[i])).get_fdata()\n",
    "  image_t1ce = scaler.fit_transform(image_t1ce.reshape(-1, image_t1ce.shape[-1])).reshape(image_t1ce.shape)\n",
    "\n",
    "  image_t2 = nib.load(os.path.join(t2_list[i])).get_fdata()\n",
    "  image_t2 = scaler.fit_transform(image_t2.reshape(-1, image_t2.shape[-1])).reshape(image_t2.shape)\n",
    "\n",
    "  mask = nib.load(os.path.join(mask_list[i])).get_fdata()\n",
    "  mask = mask.astype(np.uint8)\n",
    "  mask[mask == 4] = 3 # 0, 1, 2, 3\n",
    "\n",
    "  combined_images = np.stack([image_flair, image_t1ce, image_t2], axis=3)\n",
    "  combined_images = combined_images[56:184, 56:184, 131:141]  # 128x128x128\n",
    "  mask = mask[56:184, 56:184, 131:141]\n",
    "\n",
    "  val, counts = np.unique(mask, return_counts=True)\n",
    "\n",
    "  # at least 1% useful volume with labels that are not\n",
    "  if (1 - (counts[0]/counts.sum())) > 0.01:\n",
    "    t.write(f\"Saving {i} ...\")\n",
    "    mask = to_categorical(mask, num_classes=4)\n",
    "    np.save(os.path.join(BASE_DIR_SEG_TRAIN, \"input_data_3channels/images/image_\" + str(i)+'.npy'), combined_images)\n",
    "    np.save(os.path.join(BASE_DIR_SEG_TRAIN, \"input_data_3channels/masks/mask_\" + str(i)+'.npy'), mask)\n"
   ]
  },
  {
   "cell_type": "code",
   "execution_count": 86,
   "metadata": {},
   "outputs": [
    {
     "name": "stdout",
     "output_type": "stream",
     "text": [
      "125\n",
      "125\n",
      "125\n",
      "0\n"
     ]
    }
   ],
   "source": [
    "# INGORE ME\n",
    "BASE_DIR_SEG_VAL = \"../data/BraTS2020/BraTS2020_ValidationData/MICCAI_BraTS2020_ValidationData\"\n",
    "\n",
    "flair_list_val = sorted(glob.glob(BASE_DIR_SEG_VAL + \"/*/*flair.nii\"))\n",
    "t1ce_list_val = sorted(glob.glob(BASE_DIR_SEG_VAL + \"/*/*t1ce.nii\"))\n",
    "t2_list_val = sorted(glob.glob(BASE_DIR_SEG_VAL + \"/*/*t2.nii\"))\n",
    "mask_list_val = sorted(glob.glob(BASE_DIR_SEG_VAL + \"/*/*seg.nii\"))\n",
    "\n",
    "print(len(flair_list_val))\n",
    "print(len(t1ce_list_val))\n",
    "print(len(t2_list_val))\n",
    "print(len(mask_list_val))"
   ]
  },
  {
   "cell_type": "code",
   "execution_count": 83,
   "metadata": {},
   "outputs": [
    {
     "name": "stderr",
     "output_type": "stream",
     "text": [
      "[Val] Processing image and masks 0:   0%|                                                                      | 0/125 [00:00<?, ?it/s]\n"
     ]
    },
    {
     "ename": "IndexError",
     "evalue": "list index out of range",
     "output_type": "error",
     "traceback": [
      "\u001b[0;31m---------------------------------------------------------------------------\u001b[0m",
      "\u001b[0;31mIndexError\u001b[0m                                Traceback (most recent call last)",
      "Cell \u001b[0;32mIn[83], line 16\u001b[0m\n\u001b[1;32m     13\u001b[0m image_t2 \u001b[38;5;241m=\u001b[39m nib\u001b[38;5;241m.\u001b[39mload(os\u001b[38;5;241m.\u001b[39mpath\u001b[38;5;241m.\u001b[39mjoin(t2_list_val[i]))\u001b[38;5;241m.\u001b[39mget_fdata()\n\u001b[1;32m     14\u001b[0m image_t2 \u001b[38;5;241m=\u001b[39m scaler\u001b[38;5;241m.\u001b[39mfit_transform(image_t2\u001b[38;5;241m.\u001b[39mreshape(\u001b[38;5;241m-\u001b[39m\u001b[38;5;241m1\u001b[39m, image_t2\u001b[38;5;241m.\u001b[39mshape[\u001b[38;5;241m-\u001b[39m\u001b[38;5;241m1\u001b[39m]))\u001b[38;5;241m.\u001b[39mreshape(image_t2\u001b[38;5;241m.\u001b[39mshape)\n\u001b[0;32m---> 16\u001b[0m mask \u001b[38;5;241m=\u001b[39m nib\u001b[38;5;241m.\u001b[39mload(os\u001b[38;5;241m.\u001b[39mpath\u001b[38;5;241m.\u001b[39mjoin(\u001b[43mmask_list_val\u001b[49m\u001b[43m[\u001b[49m\u001b[43mi\u001b[49m\u001b[43m]\u001b[49m))\u001b[38;5;241m.\u001b[39mget_fdata()\n\u001b[1;32m     17\u001b[0m mask \u001b[38;5;241m=\u001b[39m mask\u001b[38;5;241m.\u001b[39mastype(np\u001b[38;5;241m.\u001b[39muint8)\n\u001b[1;32m     18\u001b[0m mask[mask \u001b[38;5;241m==\u001b[39m \u001b[38;5;241m4\u001b[39m] \u001b[38;5;241m=\u001b[39m \u001b[38;5;241m3\u001b[39m \u001b[38;5;66;03m# 0, 1, 2, 3\u001b[39;00m\n",
      "\u001b[0;31mIndexError\u001b[0m: list index out of range"
     ]
    }
   ],
   "source": [
    "# INGORE ME\n",
    "os.makedirs(os.path.join(BASE_DIR_SEG_VAL, \"input_data_3channels/images\"), exist_ok=True)\n",
    "os.makedirs(os.path.join(BASE_DIR_SEG_VAL, \"input_data_3channels/masks\"), exist_ok=True)\n",
    "\n",
    "for i in (t := trange(len(t2_list_val))):\n",
    "  t.set_description(f\"[Val] Processing image and masks {i}\")\n",
    "\n",
    "  image_flair = nib.load(os.path.join(flair_list_val[i])).get_fdata()\n",
    "  image_flair = scaler.fit_transform(image_flair.reshape(-1, image_flair.shape[-1])).reshape(image_flair.shape)\n",
    "\n",
    "  image_t1ce= nib.load(os.path.join(t1ce_list_val[i])).get_fdata()\n",
    "  image_t1ce = scaler.fit_transform(image_t1ce.reshape(-1, image_t1ce.shape[-1])).reshape(image_t1ce.shape)\n",
    "\n",
    "  image_t2 = nib.load(os.path.join(t2_list_val[i])).get_fdata()\n",
    "  image_t2 = scaler.fit_transform(image_t2.reshape(-1, image_t2.shape[-1])).reshape(image_t2.shape)\n",
    "\n",
    "  # mask = nib.load(os.path.join(mask_list_val[i])).get_fdata()\n",
    "  # mask = mask.astype(np.uint8)\n",
    "  # mask[mask == 4] = 3 # 0, 1, 2, 3\n",
    "\n",
    "  combined_images = np.stack([image_flair, image_t1ce, image_t2], axis=3)\n",
    "  combined_images = combined_images[56:184, 56:184, 131:141]  # 128x128x128\n",
    "  # mask = mask[56:184, 56:184, 131:141]\n",
    "\n",
    "  # val, counts = np.unique(mask, return_counts=True)\n",
    "\n",
    "  # at least 1% useful volume with labels that are not\n",
    "  # if (1 - (counts[0]/counts.sum())) > 0.01:\n",
    "  #   t.write(\"Saving ...\")\n",
    "  #   mask = to_categorical(mask, num_classes=4)\n",
    "  #   np.save(os.path.join(BASE_DIR_SEG_VAL, \"input_data_3channels/images/image_\" + str(i)+'.npy'), combined_images)\n",
    "  #   np.save(os.path.join(BASE_DIR_SEG_VAL, \"input_data_3channels/masks/mask_\" + str(i)+'.npy'), mask)\n"
   ]
  },
  {
   "cell_type": "code",
   "execution_count": 90,
   "metadata": {},
   "outputs": [
    {
     "name": "stderr",
     "output_type": "stream",
     "text": [
      "Copying files: 26 files [00:00, 233.25 files/s]"
     ]
    },
    {
     "name": "stdout",
     "output_type": "stream",
     "text": [
      "../data/BraTS2020/BraTS2020_TrainingData/MICCAI_BraTS2020_TrainingData/input_data_3channels/\n",
      "../data/BraTS2020/BraTS2020_TrainingData/MICCAI_BraTS2020_TrainingData/input_data_128/\n"
     ]
    },
    {
     "name": "stderr",
     "output_type": "stream",
     "text": [
      "Copying files: 42 files [00:00, 144.12 files/s]\n"
     ]
    }
   ],
   "source": [
    "import splitfolders\n",
    "\n",
    "input_folder = BASE_DIR_SEG_TRAIN + \"/input_data_3channels/\"\n",
    "output_folder = BASE_DIR_SEG_TRAIN + \"/input_data_128/\"\n",
    "print(input_folder)\n",
    "print(output_folder)\n",
    "\n",
    "splitfolders.ratio(input_folder, output=output_folder, seed=42, ratio=(.75, .25), group_prefix=None)\n"
   ]
  },
  {
   "cell_type": "code",
   "execution_count": null,
   "metadata": {},
   "outputs": [],
   "source": []
  }
 ],
 "metadata": {
  "kernelspec": {
   "display_name": "Python 3 (ipykernel)",
   "language": "python",
   "name": "python3"
  },
  "language_info": {
   "codemirror_mode": {
    "name": "ipython",
    "version": 3
   },
   "file_extension": ".py",
   "mimetype": "text/x-python",
   "name": "python",
   "nbconvert_exporter": "python",
   "pygments_lexer": "ipython3",
   "version": "3.8.5"
  }
 },
 "nbformat": 4,
 "nbformat_minor": 2
}
