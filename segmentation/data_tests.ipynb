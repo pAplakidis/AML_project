{
 "cells": [
  {
   "cell_type": "code",
   "execution_count": 2,
   "metadata": {},
   "outputs": [],
   "source": [
    "import os\n",
    "import cv2\n",
    "import numpy as np\n",
    "import torchio as tio\n",
    "from tqdm import tqdm\n",
    "\n",
    "import torch\n",
    "from torch.utils.data import Dataset"
   ]
  },
  {
   "cell_type": "code",
   "execution_count": 3,
   "metadata": {},
   "outputs": [],
   "source": [
    "BASE_DIR_SEG = '../data/MICCAI_BraTS_2019_Data_Training/'"
   ]
  },
  {
   "cell_type": "code",
   "execution_count": 4,
   "metadata": {},
   "outputs": [
    {
     "name": "stdout",
     "output_type": "stream",
     "text": [
      "['HGG', 'LGG', 'survival_data.csv', 'name_mapping.csv']\n"
     ]
    }
   ],
   "source": [
    "print(os.listdir(BASE_DIR_SEG))"
   ]
  },
  {
   "cell_type": "code",
   "execution_count": 8,
   "metadata": {},
   "outputs": [
    {
     "name": "stdout",
     "output_type": "stream",
     "text": [
      "('../data/MICCAI_BraTS_2019_Data_Training/HGG/BraTS19_2013_10_1', '../data/MICCAI_BraTS_2019_Data_Training/HGG/BraTS19_2013_11_1', '../data/MICCAI_BraTS_2019_Data_Training/HGG/BraTS19_2013_12_1', '../data/MICCAI_BraTS_2019_Data_Training/HGG/BraTS19_2013_13_1', '../data/MICCAI_BraTS_2019_Data_Training/HGG/BraTS19_2013_14_1', '../data/MICCAI_BraTS_2019_Data_Training/HGG/BraTS19_2013_17_1', '../data/MICCAI_BraTS_2019_Data_Training/HGG/BraTS19_2013_18_1', '../data/MICCAI_BraTS_2019_Data_Training/HGG/BraTS19_2013_19_1', '../data/MICCAI_BraTS_2019_Data_Training/HGG/BraTS19_2013_20_1', '../data/MICCAI_BraTS_2019_Data_Training/HGG/BraTS19_2013_21_1', '../data/MICCAI_BraTS_2019_Data_Training/HGG/BraTS19_2013_22_1', '../data/MICCAI_BraTS_2019_Data_Training/HGG/BraTS19_2013_23_1', '../data/MICCAI_BraTS_2019_Data_Training/HGG/BraTS19_2013_25_1', '../data/MICCAI_BraTS_2019_Data_Training/HGG/BraTS19_2013_26_1', '../data/MICCAI_BraTS_2019_Data_Training/HGG/BraTS19_2013_27_1', '../data/MICCAI_BraTS_2019_Data_Training/HGG/BraTS19_2013_2_1', '../data/MICCAI_BraTS_2019_Data_Training/HGG/BraTS19_2013_3_1', '../data/MICCAI_BraTS_2019_Data_Training/HGG/BraTS19_2013_4_1', '../data/MICCAI_BraTS_2019_Data_Training/HGG/BraTS19_2013_5_1', '../data/MICCAI_BraTS_2019_Data_Training/HGG/BraTS19_2013_7_1', '../data/MICCAI_BraTS_2019_Data_Training/HGG/BraTS19_CBICA_AAB_1', '../data/MICCAI_BraTS_2019_Data_Training/HGG/BraTS19_CBICA_AAG_1', '../data/MICCAI_BraTS_2019_Data_Training/HGG/BraTS19_CBICA_AAL_1', '../data/MICCAI_BraTS_2019_Data_Training/HGG/BraTS19_CBICA_AAP_1', '../data/MICCAI_BraTS_2019_Data_Training/HGG/BraTS19_CBICA_ABB_1', '../data/MICCAI_BraTS_2019_Data_Training/HGG/BraTS19_CBICA_ABE_1', '../data/MICCAI_BraTS_2019_Data_Training/HGG/BraTS19_CBICA_ABM_1', '../data/MICCAI_BraTS_2019_Data_Training/HGG/BraTS19_CBICA_ABN_1', '../data/MICCAI_BraTS_2019_Data_Training/HGG/BraTS19_CBICA_ABO_1', '../data/MICCAI_BraTS_2019_Data_Training/HGG/BraTS19_CBICA_ABY_1', '../data/MICCAI_BraTS_2019_Data_Training/HGG/BraTS19_CBICA_ALN_1', '../data/MICCAI_BraTS_2019_Data_Training/HGG/BraTS19_CBICA_ALU_1', '../data/MICCAI_BraTS_2019_Data_Training/HGG/BraTS19_CBICA_ALX_1', '../data/MICCAI_BraTS_2019_Data_Training/HGG/BraTS19_CBICA_AME_1', '../data/MICCAI_BraTS_2019_Data_Training/HGG/BraTS19_CBICA_AMH_1', '../data/MICCAI_BraTS_2019_Data_Training/HGG/BraTS19_CBICA_ANG_1', '../data/MICCAI_BraTS_2019_Data_Training/HGG/BraTS19_CBICA_ANI_1', '../data/MICCAI_BraTS_2019_Data_Training/HGG/BraTS19_CBICA_ANP_1', '../data/MICCAI_BraTS_2019_Data_Training/HGG/BraTS19_CBICA_ANV_1', '../data/MICCAI_BraTS_2019_Data_Training/HGG/BraTS19_CBICA_ANZ_1', '../data/MICCAI_BraTS_2019_Data_Training/HGG/BraTS19_CBICA_AOC_1', '../data/MICCAI_BraTS_2019_Data_Training/HGG/BraTS19_CBICA_AOD_1', '../data/MICCAI_BraTS_2019_Data_Training/HGG/BraTS19_CBICA_AOH_1', '../data/MICCAI_BraTS_2019_Data_Training/HGG/BraTS19_CBICA_AOO_1', '../data/MICCAI_BraTS_2019_Data_Training/HGG/BraTS19_CBICA_AOP_1', '../data/MICCAI_BraTS_2019_Data_Training/HGG/BraTS19_CBICA_AOS_1', '../data/MICCAI_BraTS_2019_Data_Training/HGG/BraTS19_CBICA_AOZ_1', '../data/MICCAI_BraTS_2019_Data_Training/HGG/BraTS19_CBICA_APK_1', '../data/MICCAI_BraTS_2019_Data_Training/HGG/BraTS19_CBICA_APR_1', '../data/MICCAI_BraTS_2019_Data_Training/HGG/BraTS19_CBICA_APY_1', '../data/MICCAI_BraTS_2019_Data_Training/HGG/BraTS19_CBICA_APZ_1', '../data/MICCAI_BraTS_2019_Data_Training/HGG/BraTS19_CBICA_AQA_1', '../data/MICCAI_BraTS_2019_Data_Training/HGG/BraTS19_CBICA_AQD_1', '../data/MICCAI_BraTS_2019_Data_Training/HGG/BraTS19_CBICA_AQG_1', '../data/MICCAI_BraTS_2019_Data_Training/HGG/BraTS19_CBICA_AQJ_1', '../data/MICCAI_BraTS_2019_Data_Training/HGG/BraTS19_CBICA_AQN_1', '../data/MICCAI_BraTS_2019_Data_Training/HGG/BraTS19_CBICA_AQO_1', '../data/MICCAI_BraTS_2019_Data_Training/HGG/BraTS19_CBICA_AQP_1', '../data/MICCAI_BraTS_2019_Data_Training/HGG/BraTS19_CBICA_AQQ_1', '../data/MICCAI_BraTS_2019_Data_Training/HGG/BraTS19_CBICA_AQR_1', '../data/MICCAI_BraTS_2019_Data_Training/HGG/BraTS19_CBICA_AQT_1', '../data/MICCAI_BraTS_2019_Data_Training/HGG/BraTS19_CBICA_AQU_1', '../data/MICCAI_BraTS_2019_Data_Training/HGG/BraTS19_CBICA_AQV_1', '../data/MICCAI_BraTS_2019_Data_Training/HGG/BraTS19_CBICA_AQY_1', '../data/MICCAI_BraTS_2019_Data_Training/HGG/BraTS19_CBICA_AQZ_1', '../data/MICCAI_BraTS_2019_Data_Training/HGG/BraTS19_CBICA_ARF_1', '../data/MICCAI_BraTS_2019_Data_Training/HGG/BraTS19_CBICA_ARW_1', '../data/MICCAI_BraTS_2019_Data_Training/HGG/BraTS19_CBICA_ARZ_1', '../data/MICCAI_BraTS_2019_Data_Training/HGG/BraTS19_CBICA_ASA_1', '../data/MICCAI_BraTS_2019_Data_Training/HGG/BraTS19_CBICA_ASE_1', '../data/MICCAI_BraTS_2019_Data_Training/HGG/BraTS19_CBICA_ASF_1', '../data/MICCAI_BraTS_2019_Data_Training/HGG/BraTS19_CBICA_ASG_1', '../data/MICCAI_BraTS_2019_Data_Training/HGG/BraTS19_CBICA_ASH_1', '../data/MICCAI_BraTS_2019_Data_Training/HGG/BraTS19_CBICA_ASK_1', '../data/MICCAI_BraTS_2019_Data_Training/HGG/BraTS19_CBICA_ASN_1', '../data/MICCAI_BraTS_2019_Data_Training/HGG/BraTS19_CBICA_ASO_1', '../data/MICCAI_BraTS_2019_Data_Training/HGG/BraTS19_CBICA_ASR_1', '../data/MICCAI_BraTS_2019_Data_Training/HGG/BraTS19_CBICA_ASU_1', '../data/MICCAI_BraTS_2019_Data_Training/HGG/BraTS19_CBICA_ASV_1', '../data/MICCAI_BraTS_2019_Data_Training/HGG/BraTS19_CBICA_ASW_1', '../data/MICCAI_BraTS_2019_Data_Training/HGG/BraTS19_CBICA_ASY_1', '../data/MICCAI_BraTS_2019_Data_Training/HGG/BraTS19_CBICA_ATB_1', '../data/MICCAI_BraTS_2019_Data_Training/HGG/BraTS19_CBICA_ATD_1', '../data/MICCAI_BraTS_2019_Data_Training/HGG/BraTS19_CBICA_ATF_1', '../data/MICCAI_BraTS_2019_Data_Training/HGG/BraTS19_CBICA_ATN_1', '../data/MICCAI_BraTS_2019_Data_Training/HGG/BraTS19_CBICA_ATP_1', '../data/MICCAI_BraTS_2019_Data_Training/HGG/BraTS19_CBICA_ATV_1', '../data/MICCAI_BraTS_2019_Data_Training/HGG/BraTS19_CBICA_ATX_1', '../data/MICCAI_BraTS_2019_Data_Training/HGG/BraTS19_CBICA_AUA_1', '../data/MICCAI_BraTS_2019_Data_Training/HGG/BraTS19_CBICA_AUN_1', '../data/MICCAI_BraTS_2019_Data_Training/HGG/BraTS19_CBICA_AUQ_1', '../data/MICCAI_BraTS_2019_Data_Training/HGG/BraTS19_CBICA_AUR_1', '../data/MICCAI_BraTS_2019_Data_Training/HGG/BraTS19_CBICA_AUW_1', '../data/MICCAI_BraTS_2019_Data_Training/HGG/BraTS19_CBICA_AUX_1', '../data/MICCAI_BraTS_2019_Data_Training/HGG/BraTS19_CBICA_AVB_1', '../data/MICCAI_BraTS_2019_Data_Training/HGG/BraTS19_CBICA_AVF_1', '../data/MICCAI_BraTS_2019_Data_Training/HGG/BraTS19_CBICA_AVG_1', '../data/MICCAI_BraTS_2019_Data_Training/HGG/BraTS19_CBICA_AVJ_1', '../data/MICCAI_BraTS_2019_Data_Training/HGG/BraTS19_CBICA_AVT_1', '../data/MICCAI_BraTS_2019_Data_Training/HGG/BraTS19_CBICA_AVV_1', '../data/MICCAI_BraTS_2019_Data_Training/HGG/BraTS19_CBICA_AWG_1', '../data/MICCAI_BraTS_2019_Data_Training/HGG/BraTS19_CBICA_AWH_1', '../data/MICCAI_BraTS_2019_Data_Training/HGG/BraTS19_CBICA_AWI_1', '../data/MICCAI_BraTS_2019_Data_Training/HGG/BraTS19_CBICA_AWV_1', '../data/MICCAI_BraTS_2019_Data_Training/HGG/BraTS19_CBICA_AWX_1', '../data/MICCAI_BraTS_2019_Data_Training/HGG/BraTS19_CBICA_AXJ_1', '../data/MICCAI_BraTS_2019_Data_Training/HGG/BraTS19_CBICA_AXL_1', '../data/MICCAI_BraTS_2019_Data_Training/HGG/BraTS19_CBICA_AXM_1', '../data/MICCAI_BraTS_2019_Data_Training/HGG/BraTS19_CBICA_AXN_1', '../data/MICCAI_BraTS_2019_Data_Training/HGG/BraTS19_CBICA_AXO_1', '../data/MICCAI_BraTS_2019_Data_Training/HGG/BraTS19_CBICA_AXQ_1', '../data/MICCAI_BraTS_2019_Data_Training/HGG/BraTS19_CBICA_AXW_1', '../data/MICCAI_BraTS_2019_Data_Training/HGG/BraTS19_CBICA_AYA_1', '../data/MICCAI_BraTS_2019_Data_Training/HGG/BraTS19_CBICA_AYC_1', '../data/MICCAI_BraTS_2019_Data_Training/HGG/BraTS19_CBICA_AYG_1', '../data/MICCAI_BraTS_2019_Data_Training/HGG/BraTS19_CBICA_AYI_1', '../data/MICCAI_BraTS_2019_Data_Training/HGG/BraTS19_CBICA_AYU_1', '../data/MICCAI_BraTS_2019_Data_Training/HGG/BraTS19_CBICA_AYW_1', '../data/MICCAI_BraTS_2019_Data_Training/HGG/BraTS19_CBICA_AZD_1', '../data/MICCAI_BraTS_2019_Data_Training/HGG/BraTS19_CBICA_AZH_1', '../data/MICCAI_BraTS_2019_Data_Training/HGG/BraTS19_CBICA_BAN_1', '../data/MICCAI_BraTS_2019_Data_Training/HGG/BraTS19_CBICA_BAP_1', '../data/MICCAI_BraTS_2019_Data_Training/HGG/BraTS19_CBICA_BAX_1', '../data/MICCAI_BraTS_2019_Data_Training/HGG/BraTS19_CBICA_BBG_1', '../data/MICCAI_BraTS_2019_Data_Training/HGG/BraTS19_CBICA_BCF_1', '../data/MICCAI_BraTS_2019_Data_Training/HGG/BraTS19_CBICA_BCL_1', '../data/MICCAI_BraTS_2019_Data_Training/HGG/BraTS19_CBICA_BDK_1', '../data/MICCAI_BraTS_2019_Data_Training/HGG/BraTS19_CBICA_BEM_1', '../data/MICCAI_BraTS_2019_Data_Training/HGG/BraTS19_CBICA_BFB_1', '../data/MICCAI_BraTS_2019_Data_Training/HGG/BraTS19_CBICA_BFP_1', '../data/MICCAI_BraTS_2019_Data_Training/HGG/BraTS19_CBICA_BGE_1', '../data/MICCAI_BraTS_2019_Data_Training/HGG/BraTS19_CBICA_BGG_1', '../data/MICCAI_BraTS_2019_Data_Training/HGG/BraTS19_CBICA_BGN_1', '../data/MICCAI_BraTS_2019_Data_Training/HGG/BraTS19_CBICA_BGO_1', '../data/MICCAI_BraTS_2019_Data_Training/HGG/BraTS19_CBICA_BGR_1', '../data/MICCAI_BraTS_2019_Data_Training/HGG/BraTS19_CBICA_BGT_1', '../data/MICCAI_BraTS_2019_Data_Training/HGG/BraTS19_CBICA_BGW_1', '../data/MICCAI_BraTS_2019_Data_Training/HGG/BraTS19_CBICA_BGX_1', '../data/MICCAI_BraTS_2019_Data_Training/HGG/BraTS19_CBICA_BHB_1', '../data/MICCAI_BraTS_2019_Data_Training/HGG/BraTS19_CBICA_BHK_1', '../data/MICCAI_BraTS_2019_Data_Training/HGG/BraTS19_CBICA_BHM_1', '../data/MICCAI_BraTS_2019_Data_Training/HGG/BraTS19_CBICA_BHQ_1', '../data/MICCAI_BraTS_2019_Data_Training/HGG/BraTS19_CBICA_BHV_1', '../data/MICCAI_BraTS_2019_Data_Training/HGG/BraTS19_CBICA_BHZ_1', '../data/MICCAI_BraTS_2019_Data_Training/HGG/BraTS19_CBICA_BIC_1', '../data/MICCAI_BraTS_2019_Data_Training/HGG/BraTS19_CBICA_BJY_1', '../data/MICCAI_BraTS_2019_Data_Training/HGG/BraTS19_CBICA_BKV_1', '../data/MICCAI_BraTS_2019_Data_Training/HGG/BraTS19_CBICA_BLJ_1', '../data/MICCAI_BraTS_2019_Data_Training/HGG/BraTS19_CBICA_BNR_1', '../data/MICCAI_BraTS_2019_Data_Training/HGG/BraTS19_TCIA01_131_1', '../data/MICCAI_BraTS_2019_Data_Training/HGG/BraTS19_TCIA01_147_1', '../data/MICCAI_BraTS_2019_Data_Training/HGG/BraTS19_TCIA01_150_1', '../data/MICCAI_BraTS_2019_Data_Training/HGG/BraTS19_TCIA01_180_1', '../data/MICCAI_BraTS_2019_Data_Training/HGG/BraTS19_TCIA01_186_1', '../data/MICCAI_BraTS_2019_Data_Training/HGG/BraTS19_TCIA01_190_1', '../data/MICCAI_BraTS_2019_Data_Training/HGG/BraTS19_TCIA01_201_1', '../data/MICCAI_BraTS_2019_Data_Training/HGG/BraTS19_TCIA01_203_1', '../data/MICCAI_BraTS_2019_Data_Training/HGG/BraTS19_TCIA01_221_1', '../data/MICCAI_BraTS_2019_Data_Training/HGG/BraTS19_TCIA01_231_1', '../data/MICCAI_BraTS_2019_Data_Training/HGG/BraTS19_TCIA01_235_1', '../data/MICCAI_BraTS_2019_Data_Training/HGG/BraTS19_TCIA01_335_1', '../data/MICCAI_BraTS_2019_Data_Training/HGG/BraTS19_TCIA01_378_1', '../data/MICCAI_BraTS_2019_Data_Training/HGG/BraTS19_TCIA01_390_1', '../data/MICCAI_BraTS_2019_Data_Training/HGG/BraTS19_TCIA01_401_1', '../data/MICCAI_BraTS_2019_Data_Training/HGG/BraTS19_TCIA01_411_1', '../data/MICCAI_BraTS_2019_Data_Training/HGG/BraTS19_TCIA01_412_1', '../data/MICCAI_BraTS_2019_Data_Training/HGG/BraTS19_TCIA01_425_1', '../data/MICCAI_BraTS_2019_Data_Training/HGG/BraTS19_TCIA01_429_1', '../data/MICCAI_BraTS_2019_Data_Training/HGG/BraTS19_TCIA01_448_1', '../data/MICCAI_BraTS_2019_Data_Training/HGG/BraTS19_TCIA01_460_1', '../data/MICCAI_BraTS_2019_Data_Training/HGG/BraTS19_TCIA01_499_1', '../data/MICCAI_BraTS_2019_Data_Training/HGG/BraTS19_TCIA02_117_1', '../data/MICCAI_BraTS_2019_Data_Training/HGG/BraTS19_TCIA02_118_1', '../data/MICCAI_BraTS_2019_Data_Training/HGG/BraTS19_TCIA02_135_1', '../data/MICCAI_BraTS_2019_Data_Training/HGG/BraTS19_TCIA02_151_1', '../data/MICCAI_BraTS_2019_Data_Training/HGG/BraTS19_TCIA02_168_1', '../data/MICCAI_BraTS_2019_Data_Training/HGG/BraTS19_TCIA02_171_1', '../data/MICCAI_BraTS_2019_Data_Training/HGG/BraTS19_TCIA02_179_1', '../data/MICCAI_BraTS_2019_Data_Training/HGG/BraTS19_TCIA02_198_1', '../data/MICCAI_BraTS_2019_Data_Training/HGG/BraTS19_TCIA02_208_1', '../data/MICCAI_BraTS_2019_Data_Training/HGG/BraTS19_TCIA02_222_1', '../data/MICCAI_BraTS_2019_Data_Training/HGG/BraTS19_TCIA02_226_1', '../data/MICCAI_BraTS_2019_Data_Training/HGG/BraTS19_TCIA02_274_1', '../data/MICCAI_BraTS_2019_Data_Training/HGG/BraTS19_TCIA02_283_1', '../data/MICCAI_BraTS_2019_Data_Training/HGG/BraTS19_TCIA02_290_1', '../data/MICCAI_BraTS_2019_Data_Training/HGG/BraTS19_TCIA02_300_1', '../data/MICCAI_BraTS_2019_Data_Training/HGG/BraTS19_TCIA02_309_1', '../data/MICCAI_BraTS_2019_Data_Training/HGG/BraTS19_TCIA02_314_1', '../data/MICCAI_BraTS_2019_Data_Training/HGG/BraTS19_TCIA02_321_1', '../data/MICCAI_BraTS_2019_Data_Training/HGG/BraTS19_TCIA02_322_1', '../data/MICCAI_BraTS_2019_Data_Training/HGG/BraTS19_TCIA02_331_1', '../data/MICCAI_BraTS_2019_Data_Training/HGG/BraTS19_TCIA02_368_1', '../data/MICCAI_BraTS_2019_Data_Training/HGG/BraTS19_TCIA02_370_1', '../data/MICCAI_BraTS_2019_Data_Training/HGG/BraTS19_TCIA02_374_1', '../data/MICCAI_BraTS_2019_Data_Training/HGG/BraTS19_TCIA02_377_1', '../data/MICCAI_BraTS_2019_Data_Training/HGG/BraTS19_TCIA02_394_1', '../data/MICCAI_BraTS_2019_Data_Training/HGG/BraTS19_TCIA02_430_1', '../data/MICCAI_BraTS_2019_Data_Training/HGG/BraTS19_TCIA02_455_1', '../data/MICCAI_BraTS_2019_Data_Training/HGG/BraTS19_TCIA02_471_1', '../data/MICCAI_BraTS_2019_Data_Training/HGG/BraTS19_TCIA02_473_1', '../data/MICCAI_BraTS_2019_Data_Training/HGG/BraTS19_TCIA02_491_1', '../data/MICCAI_BraTS_2019_Data_Training/HGG/BraTS19_TCIA02_605_1', '../data/MICCAI_BraTS_2019_Data_Training/HGG/BraTS19_TCIA02_606_1', '../data/MICCAI_BraTS_2019_Data_Training/HGG/BraTS19_TCIA02_607_1', '../data/MICCAI_BraTS_2019_Data_Training/HGG/BraTS19_TCIA02_608_1', '../data/MICCAI_BraTS_2019_Data_Training/HGG/BraTS19_TCIA03_121_1', '../data/MICCAI_BraTS_2019_Data_Training/HGG/BraTS19_TCIA03_133_1', '../data/MICCAI_BraTS_2019_Data_Training/HGG/BraTS19_TCIA03_138_1', '../data/MICCAI_BraTS_2019_Data_Training/HGG/BraTS19_TCIA03_199_1', '../data/MICCAI_BraTS_2019_Data_Training/HGG/BraTS19_TCIA03_257_1', '../data/MICCAI_BraTS_2019_Data_Training/HGG/BraTS19_TCIA03_265_1', '../data/MICCAI_BraTS_2019_Data_Training/HGG/BraTS19_TCIA03_296_1', '../data/MICCAI_BraTS_2019_Data_Training/HGG/BraTS19_TCIA03_338_1', '../data/MICCAI_BraTS_2019_Data_Training/HGG/BraTS19_TCIA03_375_1', '../data/MICCAI_BraTS_2019_Data_Training/HGG/BraTS19_TCIA03_419_1', '../data/MICCAI_BraTS_2019_Data_Training/HGG/BraTS19_TCIA03_474_1', '../data/MICCAI_BraTS_2019_Data_Training/HGG/BraTS19_TCIA03_498_1', '../data/MICCAI_BraTS_2019_Data_Training/HGG/BraTS19_TCIA04_111_1', '../data/MICCAI_BraTS_2019_Data_Training/HGG/BraTS19_TCIA04_149_1', '../data/MICCAI_BraTS_2019_Data_Training/HGG/BraTS19_TCIA04_192_1', '../data/MICCAI_BraTS_2019_Data_Training/HGG/BraTS19_TCIA04_328_1', '../data/MICCAI_BraTS_2019_Data_Training/HGG/BraTS19_TCIA04_343_1', '../data/MICCAI_BraTS_2019_Data_Training/HGG/BraTS19_TCIA04_361_1', '../data/MICCAI_BraTS_2019_Data_Training/HGG/BraTS19_TCIA04_437_1', '../data/MICCAI_BraTS_2019_Data_Training/HGG/BraTS19_TCIA04_479_1', '../data/MICCAI_BraTS_2019_Data_Training/HGG/BraTS19_TCIA05_277_1', '../data/MICCAI_BraTS_2019_Data_Training/HGG/BraTS19_TCIA05_396_1', '../data/MICCAI_BraTS_2019_Data_Training/HGG/BraTS19_TCIA05_444_1', '../data/MICCAI_BraTS_2019_Data_Training/HGG/BraTS19_TCIA05_478_1', '../data/MICCAI_BraTS_2019_Data_Training/HGG/BraTS19_TCIA06_165_1', '../data/MICCAI_BraTS_2019_Data_Training/HGG/BraTS19_TCIA06_184_1', '../data/MICCAI_BraTS_2019_Data_Training/HGG/BraTS19_TCIA06_211_1', '../data/MICCAI_BraTS_2019_Data_Training/HGG/BraTS19_TCIA06_247_1', '../data/MICCAI_BraTS_2019_Data_Training/HGG/BraTS19_TCIA06_332_1', '../data/MICCAI_BraTS_2019_Data_Training/HGG/BraTS19_TCIA06_372_1', '../data/MICCAI_BraTS_2019_Data_Training/HGG/BraTS19_TCIA06_409_1', '../data/MICCAI_BraTS_2019_Data_Training/HGG/BraTS19_TCIA06_603_1', '../data/MICCAI_BraTS_2019_Data_Training/HGG/BraTS19_TCIA08_105_1', '../data/MICCAI_BraTS_2019_Data_Training/HGG/BraTS19_TCIA08_113_1', '../data/MICCAI_BraTS_2019_Data_Training/HGG/BraTS19_TCIA08_162_1', '../data/MICCAI_BraTS_2019_Data_Training/HGG/BraTS19_TCIA08_167_1', '../data/MICCAI_BraTS_2019_Data_Training/HGG/BraTS19_TCIA08_205_1', '../data/MICCAI_BraTS_2019_Data_Training/HGG/BraTS19_TCIA08_218_1', '../data/MICCAI_BraTS_2019_Data_Training/HGG/BraTS19_TCIA08_234_1', '../data/MICCAI_BraTS_2019_Data_Training/HGG/BraTS19_TCIA08_242_1', '../data/MICCAI_BraTS_2019_Data_Training/HGG/BraTS19_TCIA08_278_1', '../data/MICCAI_BraTS_2019_Data_Training/HGG/BraTS19_TCIA08_280_1', '../data/MICCAI_BraTS_2019_Data_Training/HGG/BraTS19_TCIA08_319_1', '../data/MICCAI_BraTS_2019_Data_Training/HGG/BraTS19_TCIA08_406_1', '../data/MICCAI_BraTS_2019_Data_Training/HGG/BraTS19_TCIA08_436_1', '../data/MICCAI_BraTS_2019_Data_Training/HGG/BraTS19_TCIA08_469_1', '../data/MICCAI_BraTS_2019_Data_Training/HGG/BraTS19_TMC_06290_1', '../data/MICCAI_BraTS_2019_Data_Training/HGG/BraTS19_TMC_06643_1', '../data/MICCAI_BraTS_2019_Data_Training/HGG/BraTS19_TMC_11964_1', '../data/MICCAI_BraTS_2019_Data_Training/HGG/BraTS19_TMC_12866_1', '../data/MICCAI_BraTS_2019_Data_Training/HGG/BraTS19_TMC_15477_1', '../data/MICCAI_BraTS_2019_Data_Training/HGG/BraTS19_TMC_21360_1', '../data/MICCAI_BraTS_2019_Data_Training/HGG/BraTS19_TMC_27374_1', '../data/MICCAI_BraTS_2019_Data_Training/HGG/BraTS19_TMC_30014_1')\n"
     ]
    }
   ],
   "source": [
    "data_dir = BASE_DIR_SEG + 'HGG'\n",
    "Patient_info = [(f.path, f.name) for f in (os.scandir(data_dir)) if f.is_dir()]\n",
    "sorted_patient_info = sorted(Patient_info, key=lambda param: param[1])\n",
    "Patient_paths, Patient_names = zip(*sorted_patient_info)\n",
    "print(Patient_paths)"
   ]
  },
  {
   "cell_type": "code",
   "execution_count": 13,
   "metadata": {},
   "outputs": [
    {
     "name": "stdout",
     "output_type": "stream",
     "text": [
      "ScalarImage(shape: (1, 240, 240, 155); spacing: (1.00, 1.00, 1.00); orientation: LPS+; dtype: torch.FloatTensor; memory: 34.1 MiB)\n"
     ]
    },
    {
     "ename": "KeyError",
     "evalue": "0",
     "output_type": "error",
     "traceback": [
      "\u001b[0;31m---------------------------------------------------------------------------\u001b[0m",
      "\u001b[0;31mKeyError\u001b[0m                                  Traceback (most recent call last)",
      "Cell \u001b[0;32mIn[13], line 7\u001b[0m\n\u001b[1;32m      5\u001b[0m label \u001b[38;5;241m=\u001b[39m tio\u001b[38;5;241m.\u001b[39mLabelMap(\u001b[38;5;124mf\u001b[39m\u001b[38;5;124m\"\u001b[39m\u001b[38;5;132;01m{\u001b[39;00mpath\u001b[38;5;132;01m}\u001b[39;00m\u001b[38;5;124m/\u001b[39m\u001b[38;5;132;01m{\u001b[39;00mname\u001b[38;5;132;01m}\u001b[39;00m\u001b[38;5;124m_seg.nii\u001b[39m\u001b[38;5;124m\"\u001b[39m)\n\u001b[1;32m      6\u001b[0m \u001b[38;5;28mprint\u001b[39m(image)\n\u001b[0;32m----> 7\u001b[0m color_img \u001b[38;5;241m=\u001b[39m np\u001b[38;5;241m.\u001b[39mstack([\u001b[43mimage\u001b[49m\u001b[43m[\u001b[49m\u001b[38;5;241;43m0\u001b[39;49m\u001b[43m]\u001b[49m\u001b[38;5;241m.\u001b[39mcpu()\u001b[38;5;241m.\u001b[39mdetach()\u001b[38;5;241m.\u001b[39mnumpy()] \u001b[38;5;241m*\u001b[39m \u001b[38;5;241m3\u001b[39m, axis\u001b[38;5;241m=\u001b[39m\u001b[38;5;241m-\u001b[39m\u001b[38;5;241m1\u001b[39m)\n",
      "File \u001b[0;32m~/.pyenv/versions/3.8.5/lib/python3.8/site-packages/torchio/data/image.py:207\u001b[0m, in \u001b[0;36mImage.__getitem__\u001b[0;34m(self, item)\u001b[0m\n\u001b[1;32m    205\u001b[0m     \u001b[38;5;28;01mif\u001b[39;00m item \u001b[38;5;129;01mnot\u001b[39;00m \u001b[38;5;129;01min\u001b[39;00m \u001b[38;5;28mself\u001b[39m:\n\u001b[1;32m    206\u001b[0m         \u001b[38;5;28mself\u001b[39m\u001b[38;5;241m.\u001b[39mload()\n\u001b[0;32m--> 207\u001b[0m \u001b[38;5;28;01mreturn\u001b[39;00m \u001b[38;5;28;43msuper\u001b[39;49m\u001b[43m(\u001b[49m\u001b[43m)\u001b[49m\u001b[38;5;241;43m.\u001b[39;49m\u001b[38;5;21;43m__getitem__\u001b[39;49m\u001b[43m(\u001b[49m\u001b[43mitem\u001b[49m\u001b[43m)\u001b[49m\n",
      "\u001b[0;31mKeyError\u001b[0m: 0"
     ]
    }
   ],
   "source": [
    "path = Patient_paths[0]\n",
    "name = Patient_names[0]\n",
    "image = tio.ScalarImage(f\"{path}/{name}_t1ce.nii\")\n",
    "image[tio.DATA] = image[tio.DATA].to(torch.float32)\n",
    "label = tio.LabelMap(f\"{path}/{name}_seg.nii\")\n",
    "print(image)\n",
    "color_img = np.stack([image[0].cpu().detach().numpy()] * 3, axis=-1)"
   ]
  },
  {
   "cell_type": "code",
   "execution_count": null,
   "metadata": {},
   "outputs": [],
   "source": []
  }
 ],
 "metadata": {
  "kernelspec": {
   "display_name": "Python 3 (ipykernel)",
   "language": "python",
   "name": "python3"
  },
  "language_info": {
   "codemirror_mode": {
    "name": "ipython",
    "version": 3
   },
   "file_extension": ".py",
   "mimetype": "text/x-python",
   "name": "python",
   "nbconvert_exporter": "python",
   "pygments_lexer": "ipython3",
   "version": "3.8.5"
  }
 },
 "nbformat": 4,
 "nbformat_minor": 2
}
